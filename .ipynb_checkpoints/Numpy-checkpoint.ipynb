{
 "cells": [
  {
   "cell_type": "markdown",
   "id": "6e67ff7a",
   "metadata": {},
   "source": [
    "## 1. Import the NUMPY package under the name np."
   ]
  },
  {
   "cell_type": "code",
   "execution_count": 2,
   "id": "e49b13dc",
   "metadata": {},
   "outputs": [],
   "source": [
    "import numpy as np"
   ]
  },
  {
   "cell_type": "markdown",
   "id": "ae1efdc4",
   "metadata": {},
   "source": [
    "## 2. Print the NUMPY version and the configuration."
   ]
  },
  {
   "cell_type": "code",
   "execution_count": 3,
   "id": "e2e61867",
   "metadata": {},
   "outputs": [
    {
     "name": "stdout",
     "output_type": "stream",
     "text": [
      "1.21.5\n",
      "blas_mkl_info:\n",
      "    libraries = ['mkl_rt']\n",
      "    library_dirs = ['C:/Users/Alejandro/anaconda3\\\\Library\\\\lib']\n",
      "    define_macros = [('SCIPY_MKL_H', None), ('HAVE_CBLAS', None)]\n",
      "    include_dirs = ['C:/Users/Alejandro/anaconda3\\\\Library\\\\include']\n",
      "blas_opt_info:\n",
      "    libraries = ['mkl_rt']\n",
      "    library_dirs = ['C:/Users/Alejandro/anaconda3\\\\Library\\\\lib']\n",
      "    define_macros = [('SCIPY_MKL_H', None), ('HAVE_CBLAS', None)]\n",
      "    include_dirs = ['C:/Users/Alejandro/anaconda3\\\\Library\\\\include']\n",
      "lapack_mkl_info:\n",
      "    libraries = ['mkl_rt']\n",
      "    library_dirs = ['C:/Users/Alejandro/anaconda3\\\\Library\\\\lib']\n",
      "    define_macros = [('SCIPY_MKL_H', None), ('HAVE_CBLAS', None)]\n",
      "    include_dirs = ['C:/Users/Alejandro/anaconda3\\\\Library\\\\include']\n",
      "lapack_opt_info:\n",
      "    libraries = ['mkl_rt']\n",
      "    library_dirs = ['C:/Users/Alejandro/anaconda3\\\\Library\\\\lib']\n",
      "    define_macros = [('SCIPY_MKL_H', None), ('HAVE_CBLAS', None)]\n",
      "    include_dirs = ['C:/Users/Alejandro/anaconda3\\\\Library\\\\include']\n",
      "Supported SIMD extensions in this NumPy install:\n",
      "    baseline = SSE,SSE2,SSE3\n",
      "    found = SSSE3,SSE41,POPCNT,SSE42,AVX,F16C,FMA3,AVX2\n",
      "    not found = AVX512F,AVX512CD,AVX512_SKX,AVX512_CLX,AVX512_CNL\n",
      "None\n"
     ]
    }
   ],
   "source": [
    "print(np.__version__)\n",
    "print(np.show_config())"
   ]
  },
  {
   "cell_type": "markdown",
   "id": "51a3997c",
   "metadata": {},
   "source": [
    "## 3. Generate a 2x3x5 3-dimensional array with random values. Assign the array to variable \"a\"\n",
    "### Challenge: there are at least three easy ways that use numpy to generate random arrays. How many ways can you find?"
   ]
  },
  {
   "cell_type": "code",
   "execution_count": 6,
   "id": "86209e2b",
   "metadata": {},
   "outputs": [
    {
     "data": {
      "text/plain": [
       "array([[[0.32612399, 0.51643074, 0.16259045, 0.25133467, 0.85656888],\n",
       "        [0.08876837, 0.83802539, 0.58998224, 0.93694321, 0.55546532],\n",
       "        [0.9701385 , 0.64829562, 0.41933347, 0.58199622, 0.18762216]],\n",
       "\n",
       "       [[0.97342408, 0.51784402, 0.41545634, 0.47904744, 0.15218735],\n",
       "        [0.11373039, 0.62800382, 0.33783508, 0.71878297, 0.23379809],\n",
       "        [0.06852903, 0.38365447, 0.10151352, 0.12874493, 0.24429233]]])"
      ]
     },
     "execution_count": 6,
     "metadata": {},
     "output_type": "execute_result"
    }
   ],
   "source": [
    "a = np.random.random((2, 3, 5))\n"
   ]
  },
  {
   "cell_type": "code",
   "execution_count": 7,
   "id": "3780cadc",
   "metadata": {},
   "outputs": [
    {
     "data": {
      "text/plain": [
       "array([[[0.61378869, 0.89822342, 0.7581361 , 0.70991217, 0.99177559],\n",
       "        [0.09957234, 0.74436144, 0.52136784, 0.00668765, 0.18969967],\n",
       "        [0.26920723, 0.53142168, 0.09155311, 0.31695486, 0.5406088 ]],\n",
       "\n",
       "       [[0.2738475 , 0.76171263, 0.86608806, 0.3520782 , 0.86830321],\n",
       "        [0.47004618, 0.69549491, 0.85752522, 0.06474432, 0.81710352],\n",
       "        [0.57071217, 0.25052783, 0.55756046, 0.04683673, 0.52719525]]])"
      ]
     },
     "execution_count": 7,
     "metadata": {},
     "output_type": "execute_result"
    }
   ],
   "source": [
    "np.random.rand(2, 3, 5)"
   ]
  },
  {
   "cell_type": "code",
   "execution_count": 15,
   "id": "35cc7845",
   "metadata": {},
   "outputs": [
    {
     "data": {
      "text/plain": [
       "array([[[3, 6, 1, 5, 8],\n",
       "        [8, 9, 8, 4, 0],\n",
       "        [5, 2, 9, 3, 1]],\n",
       "\n",
       "       [[4, 8, 8, 9, 2],\n",
       "        [7, 5, 8, 0, 3],\n",
       "        [9, 9, 8, 7, 2]]])"
      ]
     },
     "execution_count": 15,
     "metadata": {},
     "output_type": "execute_result"
    }
   ],
   "source": [
    "np.random.randint(10,size=(2, 3, 5))"
   ]
  },
  {
   "cell_type": "markdown",
   "id": "b1d38418",
   "metadata": {},
   "source": [
    "## 4. Print a."
   ]
  },
  {
   "cell_type": "code",
   "execution_count": 16,
   "id": "0b4e1899",
   "metadata": {},
   "outputs": [
    {
     "name": "stdout",
     "output_type": "stream",
     "text": [
      "[[[0.32612399 0.51643074 0.16259045 0.25133467 0.85656888]\n",
      "  [0.08876837 0.83802539 0.58998224 0.93694321 0.55546532]\n",
      "  [0.9701385  0.64829562 0.41933347 0.58199622 0.18762216]]\n",
      "\n",
      " [[0.97342408 0.51784402 0.41545634 0.47904744 0.15218735]\n",
      "  [0.11373039 0.62800382 0.33783508 0.71878297 0.23379809]\n",
      "  [0.06852903 0.38365447 0.10151352 0.12874493 0.24429233]]]\n"
     ]
    }
   ],
   "source": [
    "print(a)"
   ]
  },
  {
   "cell_type": "markdown",
   "id": "a8542445",
   "metadata": {},
   "source": [
    "## 5. Create a 5x2x3 3-dimensional array with all values equaling 1.\n",
    "### Assign the array to variable \"b\""
   ]
  },
  {
   "cell_type": "code",
   "execution_count": 20,
   "id": "14eba0d8",
   "metadata": {},
   "outputs": [],
   "source": [
    "b = np.full((5, 2, 3), 1)\n"
   ]
  },
  {
   "cell_type": "code",
   "execution_count": null,
   "id": "e1842314",
   "metadata": {},
   "outputs": [],
   "source": [
    "np.random.randint(1, 2, size=(5, 2, 3))"
   ]
  },
  {
   "cell_type": "markdown",
   "id": "672c49fc",
   "metadata": {},
   "source": [
    "## 6. Print b."
   ]
  },
  {
   "cell_type": "code",
   "execution_count": 19,
   "id": "69ef278a",
   "metadata": {},
   "outputs": [
    {
     "name": "stdout",
     "output_type": "stream",
     "text": [
      "[[[1 1 1]\n",
      "  [1 1 1]]\n",
      "\n",
      " [[1 1 1]\n",
      "  [1 1 1]]\n",
      "\n",
      " [[1 1 1]\n",
      "  [1 1 1]]\n",
      "\n",
      " [[1 1 1]\n",
      "  [1 1 1]]\n",
      "\n",
      " [[1 1 1]\n",
      "  [1 1 1]]]\n"
     ]
    }
   ],
   "source": [
    "print(b)"
   ]
  },
  {
   "cell_type": "markdown",
   "id": "73eaf2d7",
   "metadata": {},
   "source": [
    "## 7. Do a and b have the same size? How do you prove that in Python code?"
   ]
  },
  {
   "cell_type": "code",
   "execution_count": 21,
   "id": "18e6ed9f",
   "metadata": {},
   "outputs": [
    {
     "data": {
      "text/plain": [
       "False"
      ]
     },
     "execution_count": 21,
     "metadata": {},
     "output_type": "execute_result"
    }
   ],
   "source": [
    "a.shape == b.shape"
   ]
  },
  {
   "cell_type": "markdown",
   "id": "e82dd5ba",
   "metadata": {},
   "source": [
    "## 8. Are you able to add a and b? Why or why not?"
   ]
  },
  {
   "cell_type": "code",
   "execution_count": 22,
   "id": "9165299b",
   "metadata": {},
   "outputs": [],
   "source": [
    "#No puedes, sus dimensiones no son las mismas."
   ]
  },
  {
   "cell_type": "markdown",
   "id": "7353caa9",
   "metadata": {},
   "source": [
    "## 9. Transpose b so that it has the same structure of a (i.e. become a 2x3x5 array). Assign the transposed array to varialbe  \"c\"."
   ]
  },
  {
   "cell_type": "code",
   "execution_count": 28,
   "id": "136fefec",
   "metadata": {},
   "outputs": [
    {
     "name": "stdout",
     "output_type": "stream",
     "text": [
      "[[[1 1 1 1 1]\n",
      "  [1 1 1 1 1]\n",
      "  [1 1 1 1 1]]\n",
      "\n",
      " [[1 1 1 1 1]\n",
      "  [1 1 1 1 1]\n",
      "  [1 1 1 1 1]]]\n"
     ]
    }
   ],
   "source": [
    "c =b.reshape(5, 3, 2).T\n",
    "print(c)"
   ]
  },
  {
   "cell_type": "markdown",
   "id": "37c2c3e3",
   "metadata": {},
   "source": [
    "## 10. Try to add a and c. Now it should work. Assign the sum to varialbe \"d\". But why does it work now?"
   ]
  },
  {
   "cell_type": "code",
   "execution_count": 31,
   "id": "1a3f1013",
   "metadata": {},
   "outputs": [],
   "source": [
    "d = np.array(a) + np.array(c)\n",
    "#Ahora funciona porque tienen la misma dimensión"
   ]
  },
  {
   "cell_type": "markdown",
   "id": "97934664",
   "metadata": {},
   "source": [
    "## 11. Print a and d. Notice the difference and relation of the two array in terms of the values? Explain."
   ]
  },
  {
   "cell_type": "code",
   "execution_count": 34,
   "id": "38a81321",
   "metadata": {},
   "outputs": [
    {
     "name": "stdout",
     "output_type": "stream",
     "text": [
      "[[[0.32612399 0.51643074 0.16259045 0.25133467 0.85656888]\n",
      "  [0.08876837 0.83802539 0.58998224 0.93694321 0.55546532]\n",
      "  [0.9701385  0.64829562 0.41933347 0.58199622 0.18762216]]\n",
      "\n",
      " [[0.97342408 0.51784402 0.41545634 0.47904744 0.15218735]\n",
      "  [0.11373039 0.62800382 0.33783508 0.71878297 0.23379809]\n",
      "  [0.06852903 0.38365447 0.10151352 0.12874493 0.24429233]]]\n",
      "[[[1.32612399 1.51643074 1.16259045 1.25133467 1.85656888]\n",
      "  [1.08876837 1.83802539 1.58998224 1.93694321 1.55546532]\n",
      "  [1.9701385  1.64829562 1.41933347 1.58199622 1.18762216]]\n",
      "\n",
      " [[1.97342408 1.51784402 1.41545634 1.47904744 1.15218735]\n",
      "  [1.11373039 1.62800382 1.33783508 1.71878297 1.23379809]\n",
      "  [1.06852903 1.38365447 1.10151352 1.12874493 1.24429233]]]\n"
     ]
    }
   ],
   "source": [
    "print(a)\n",
    "print(d)"
   ]
  },
  {
   "cell_type": "markdown",
   "id": "1d9b0cfb",
   "metadata": {},
   "source": [
    "## 12. Multiply a and c. Assign the result to e."
   ]
  },
  {
   "cell_type": "code",
   "execution_count": 35,
   "id": "a1d5ed95",
   "metadata": {},
   "outputs": [],
   "source": [
    "e = np.array(a) * np.array(c)"
   ]
  },
  {
   "cell_type": "markdown",
   "id": "73bb192b",
   "metadata": {},
   "source": [
    "## 13. Does e equal to a? Why or why not?"
   ]
  },
  {
   "cell_type": "code",
   "execution_count": 39,
   "id": "a62f9b28",
   "metadata": {},
   "outputs": [
    {
     "data": {
      "text/plain": [
       "True"
      ]
     },
     "execution_count": 39,
     "metadata": {},
     "output_type": "execute_result"
    }
   ],
   "source": [
    "np.array_equal(e, a)\n",
    "#Son iguales porque hemos multiplicado a por 1(c)"
   ]
  },
  {
   "cell_type": "markdown",
   "id": "ee6729ac",
   "metadata": {},
   "source": [
    "## 14. Identify the max, min, and mean values in d. Assign those values to variables \"d_max\", \"d_min\", and \"d_mean\""
   ]
  },
  {
   "cell_type": "code",
   "execution_count": 53,
   "id": "20e7d621",
   "metadata": {},
   "outputs": [
    {
     "name": "stdout",
     "output_type": "stream",
     "text": [
      "1.0685290334168034\n"
     ]
    }
   ],
   "source": [
    "d_max = d.max()\n",
    "d_min = d.min()\n",
    "d_mean = d.mean()\n",
    "print(d_min)"
   ]
  },
  {
   "cell_type": "markdown",
   "id": "0cbe1f3b",
   "metadata": {},
   "source": [
    "## 15. Now we want to label the values in d. First create an empty array \"f\" with the same shape (i.e. 2x3x5) as d using `np.empty`."
   ]
  },
  {
   "cell_type": "code",
   "execution_count": 46,
   "id": "5c4b5953",
   "metadata": {},
   "outputs": [
    {
     "data": {
      "text/plain": [
       "array([[[0.32612399, 0.51643074, 0.16259045, 0.25133467, 0.85656888],\n",
       "        [0.08876837, 0.83802539, 0.58998224, 0.93694321, 0.55546532],\n",
       "        [0.9701385 , 0.64829562, 0.41933347, 0.58199622, 0.18762216]],\n",
       "\n",
       "       [[0.97342408, 0.51784402, 0.41545634, 0.47904744, 0.15218735],\n",
       "        [0.11373039, 0.62800382, 0.33783508, 0.71878297, 0.23379809],\n",
       "        [0.06852903, 0.38365447, 0.10151352, 0.12874493, 0.24429233]]])"
      ]
     },
     "execution_count": 46,
     "metadata": {},
     "output_type": "execute_result"
    }
   ],
   "source": [
    "f = np.empty([2, 3, 5])\n",
    "f"
   ]
  },
  {
   "cell_type": "markdown",
   "id": "726b15ea",
   "metadata": {},
   "source": [
    "## 16. Populate the values in f. \n",
    "### For each value in d, if it's larger than d_min but smaller than d_mean, assign 25 to the corresponding value in f.\n",
    "### If a value in d is larger than d_mean but smaller than d_max, assign 75 to the corresponding value in f.\n",
    "### If a value equals to d_mean, assign 50 to the corresponding value in f.\n",
    "### Assign 0 to the corresponding value(s) in f for d_min in d.\n",
    "### Assign 100 to the corresponding value(s) in f for d_max in d.\n",
    "### In the end, f should have only the following values: 0, 25, 50, 75, and 100.\n",
    "### Note: you don't have to use Numpy in this question."
   ]
  },
  {
   "cell_type": "code",
   "execution_count": 68,
   "id": "1d994874",
   "metadata": {},
   "outputs": [],
   "source": [
    "f=np.where((d > d_min) & (d < d_mean), 25, np.where((d > d_mean) & (d < d_max),75, np.where((d == d_mean), 50, np.where((d==d_max), 100, 0))))"
   ]
  },
  {
   "cell_type": "code",
   "execution_count": null,
   "id": "4310f448",
   "metadata": {},
   "outputs": [],
   "source": []
  },
  {
   "cell_type": "code",
   "execution_count": 70,
   "id": "0d88ad92",
   "metadata": {},
   "outputs": [
    {
     "data": {
      "text/plain": [
       "array([[[ 25,  75,  25,  25,  75],\n",
       "        [ 25,  75,  75,  75,  75],\n",
       "        [ 75,  75,  25,  75,  25]],\n",
       "\n",
       "       [[100,  75,  25,  75,  25],\n",
       "        [ 25,  75,  25,  75,  25],\n",
       "        [  0,  25,  25,  25,  25]]])"
      ]
     },
     "execution_count": 70,
     "metadata": {},
     "output_type": "execute_result"
    }
   ],
   "source": [
    "#otra forma\n",
    "conditions = [(d > d_min) & (d < d_mean), (d > d_mean) & (d < d_max), (d == d_mean), (d==d_max), (d==d_min)]\n",
    "choices = [25, 75, 50, 100, 0]\n",
    "\n",
    "f = np.select(conditions, choices)\n",
    "f"
   ]
  },
  {
   "cell_type": "markdown",
   "id": "c183955b",
   "metadata": {},
   "source": [
    "# 17. Print d and f. Do you have your expected f?\n",
    "#### For instance, if your d is:\n",
    "#### array\n",
    "    ([[[1.85836099, 1.67064465, 1.62576044, 1.40243961, 1.88454931],\n",
    "        [1.75354326, 1.69403643, 1.36729252, 1.61415071, 1.12104981],\n",
    "        [1.72201435, 1.1862918 , 1.87078449, 1.7726778 , 1.88180042]],\n",
    "\n",
    "       [[1.44747908, 1.31673383, 1.02000951, 1.52218947, 1.97066381],\n",
    "        [1.79129243, 1.74983003, 1.96028037, 1.85166831, 1.65450881],\n",
    "        [1.18068344, 1.9587381 , 1.00656599, 1.93402165, 1.73514584]]])\n",
    "\n",
    "#### Your f should be:\n",
    "#### array\n",
    "    ([[[ 75.,  75.,  75.,  25.,  75.],\n",
    "        [ 75.,  75.,  25.,  25.,  25.],\n",
    "        [ 75.,  25.,  75.,  75.,  75.]],\n",
    "\n",
    "       [[ 25.,  25.,  25.,  25., 100.],\n",
    "        [ 75.,  75.,  75.,  75.,  75.],\n",
    "        [ 25.,  75.,   0.,  75.,  75.]]])\n"
   ]
  },
  {
   "cell_type": "code",
   "execution_count": 72,
   "id": "86e6945d",
   "metadata": {},
   "outputs": [
    {
     "name": "stdout",
     "output_type": "stream",
     "text": [
      "[[[1.32612399 1.51643074 1.16259045 1.25133467 1.85656888]\n",
      "  [1.08876837 1.83802539 1.58998224 1.93694321 1.55546532]\n",
      "  [1.9701385  1.64829562 1.41933347 1.58199622 1.18762216]]\n",
      "\n",
      " [[1.97342408 1.51784402 1.41545634 1.47904744 1.15218735]\n",
      "  [1.11373039 1.62800382 1.33783508 1.71878297 1.23379809]\n",
      "  [1.06852903 1.38365447 1.10151352 1.12874493 1.24429233]]]\n",
      "[[[ 25  75  25  25  75]\n",
      "  [ 25  75  75  75  75]\n",
      "  [ 75  75  25  75  25]]\n",
      "\n",
      " [[100  75  25  75  25]\n",
      "  [ 25  75  25  75  25]\n",
      "  [  0  25  25  25  25]]]\n"
     ]
    }
   ],
   "source": [
    "print(d)\n",
    "print(f)\n",
    "#Sí, tenemos nuestro f esperado"
   ]
  },
  {
   "cell_type": "markdown",
   "id": "15aa0f65",
   "metadata": {},
   "source": [
    "# 18. Bonus question: instead of using numbers (i.e. 0, 25, 50, 75, and 100), how to use string values \n",
    "#### (\"A\", \"B\", \"C\", \"D\", and \"E\") to label the array elements? You are expecting the result to be:\n",
    "#### array\n",
    "    ([[[ 'D',  'D',  'D',  'B',  'D'],\n",
    "        [ 'D',  'D',  'B',  'B',  'B'],\n",
    "        [ 'D',  'B',  'D',  'D',  'D']],\n",
    "\n",
    "       [[ 'B',  'B',  'B',  'B',  'E'],\n",
    "        [ 'D',  'D',  'D',  'D',  'D'],\n",
    "        [ 'B',  'D',   'A',  'D', 'D']]])\n",
    "#### Again, you don't need Numpy in this question."
   ]
  },
  {
   "cell_type": "code",
   "execution_count": 73,
   "id": "b955aa51",
   "metadata": {},
   "outputs": [
    {
     "name": "stdout",
     "output_type": "stream",
     "text": [
      "[[['A' 'B' 'A' 'A' 'B']\n",
      "  ['A' 'B' 'B' 'B' 'B']\n",
      "  ['B' 'B' 'A' 'B' 'A']]\n",
      "\n",
      " [['D' 'B' 'A' 'B' 'A']\n",
      "  ['A' 'B' 'A' 'B' 'A']\n",
      "  ['E' 'A' 'A' 'A' 'A']]]\n"
     ]
    }
   ],
   "source": [
    "conditions = [(d > d_min) & (d < d_mean), (d > d_mean) & (d < d_max), (d == d_mean), (d==d_max), (d==d_min)]\n",
    "choices = ['A', 'B', 'C', 'D', 'E']\n",
    "\n",
    "g = np.select(conditions, choices)\n",
    "print(g)"
   ]
  },
  {
   "cell_type": "code",
   "execution_count": null,
   "id": "00a696cf",
   "metadata": {},
   "outputs": [],
   "source": []
  }
 ],
 "metadata": {
  "kernelspec": {
   "display_name": "Python 3 (ipykernel)",
   "language": "python",
   "name": "python3"
  },
  "language_info": {
   "codemirror_mode": {
    "name": "ipython",
    "version": 3
   },
   "file_extension": ".py",
   "mimetype": "text/x-python",
   "name": "python",
   "nbconvert_exporter": "python",
   "pygments_lexer": "ipython3",
   "version": "3.9.12"
  }
 },
 "nbformat": 4,
 "nbformat_minor": 5
}
